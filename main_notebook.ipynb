{
 "cells": [
  {
   "cell_type": "code",
   "execution_count": 27,
   "id": "5ab0be64",
   "metadata": {
    "lines_to_next_cell": 2
   },
   "outputs": [],
   "source": [
    "import cv2\n",
    "from deepface import DeepFace\n",
    "import numpy as np\n",
    "import pandas as pd\n",
    "import time\n",
    "from scipy.spatial.distance import cosine\n",
    "import torch "
   ]
  },
  {
   "cell_type": "code",
   "execution_count": 28,
   "id": "d2bc89b8",
   "metadata": {
    "lines_to_next_cell": 2
   },
   "outputs": [
    {
     "name": "stdout",
     "output_type": "stream",
     "text": [
      "Using device: cuda\n"
     ]
    }
   ],
   "source": [
    "device = torch.device(\"cuda\" if torch.cuda.is_available() else \"cpu\")\n",
    "print(f\"Using device: {device}\")"
   ]
  },
  {
   "cell_type": "code",
   "execution_count": 29,
   "id": "4f15edde",
   "metadata": {},
   "outputs": [],
   "source": [
    "if torch.cuda.is_available():\n",
    "    torch.cuda.empty_cache()"
   ]
  },
  {
   "cell_type": "code",
   "execution_count": 30,
   "id": "365b17e5",
   "metadata": {},
   "outputs": [],
   "source": [
    "# Load embeddings with normalization\n",
    "embedding_df = pd.read_csv(\"face_embeddings.csv\")\n",
    "known_embeddings = []\n",
    "for embedding_str in embedding_df['embedding']:\n",
    "    arr = np.fromstring(embedding_str, sep=' ')\n",
    "    known_embeddings.append(arr)\n",
    "known_embeddings = [emb / np.linalg.norm(emb) for emb in known_embeddings]  # Normalize"
   ]
  },
  {
   "cell_type": "code",
   "execution_count": 31,
   "id": "b6b87d78",
   "metadata": {},
   "outputs": [],
   "source": [
    "if not known_embeddings:\n",
    "    raise ValueError(\"No valid embeddings in database\")"
   ]
  },
  {
   "cell_type": "code",
   "execution_count": null,
   "id": "088d3a5e",
   "metadata": {
    "lines_to_next_cell": 2
   },
   "outputs": [],
   "source": [
    "cap = cv2.VideoCapture(\"testvid1.mp4\")\n",
    "threshold = 0.6 # Adjusted threshold"
   ]
  },
  {
   "cell_type": "code",
   "execution_count": 33,
   "id": "2c6bd35f",
   "metadata": {},
   "outputs": [],
   "source": [
    "while True:\n",
    "    ret, frame = cap.read()\n",
    "    if not ret:\n",
    "        break\n",
    "    \n",
    "    # frame = cv2.cvtColor(frame, cv2.COLOR_BGR2RGB)\n",
    "\n",
    "\n",
    "    try:\n",
    "        faces = DeepFace.extract_faces(frame, detector_backend = \"opencv\" , align = True)\n",
    "    except:\n",
    "        faces = []\n",
    "\n",
    "    if faces:\n",
    "        for face in faces:\n",
    "            face_img = face[\"face\"]\n",
    "            \n",
    "            # Generate and normalize live embedding\n",
    "            embedding = np.array(DeepFace.represent(\n",
    "                face_img, \n",
    "                model_name = \"SFace\",  \n",
    "                enforce_detection=False\n",
    "            )[0][\"embedding\"])\n",
    "            embedding = embedding / np.linalg.norm(embedding)\n",
    "\n",
    "            # Calculate similarities\n",
    "            similarities = [1 - cosine(stored_emb,embedding) for stored_emb in known_embeddings]\n",
    "            \n",
    "            if similarities:  # Extra safety check\n",
    "                  # Compute the max similarity\n",
    "                best_match_idx = np.argmin(similarities)\n",
    "                best_similarity = similarities[best_match_idx]\n",
    "                \n",
    "                label = (\"Unauthorized\" if best_similarity < threshold \n",
    "                         else f\"Recognized: {embedding_df.iloc[best_match_idx]['name']} ({best_similarity:.2f})\")\n",
    "                \n",
    "                # Draw bounding box\n",
    "                area = face[\"facial_area\"]\n",
    "                x, y, w, h = area[\"x\"], area[\"y\"], area[\"w\"], area[\"h\"]\n",
    "                cv2.rectangle(frame, (x, y), (x+w, y+h), (0, 255, 0), 1)\n",
    "                cv2.putText(frame, label, (x, y-10), \n",
    "                           cv2.FONT_HERSHEY_SIMPLEX, 0.7, (0, 255, 0), 1)\n",
    "    else:\n",
    "        cv2.putText(frame, \"No face detected\", (10, 30), \n",
    "                   cv2.FONT_HERSHEY_SIMPLEX, 0.7, (0, 0, 255), 1)\n",
    "\n",
    "    cv2.imshow(\"Face Recognition\", frame)\n",
    "    if cv2.waitKey(1) == ord('q'):\n",
    "        break"
   ]
  },
  {
   "cell_type": "code",
   "execution_count": 34,
   "id": "218b175c",
   "metadata": {},
   "outputs": [],
   "source": [
    "cap.release()\n",
    "cv2.destroyAllWindows()"
   ]
  }
 ],
 "metadata": {
  "jupytext": {
   "cell_metadata_filter": "-all",
   "main_language": "python",
   "notebook_metadata_filter": "-all"
  },
  "kernelspec": {
   "display_name": "myenv",
   "language": "python",
   "name": "python3"
  },
  "language_info": {
   "codemirror_mode": {
    "name": "ipython",
    "version": 3
   },
   "file_extension": ".py",
   "mimetype": "text/x-python",
   "name": "python",
   "nbconvert_exporter": "python",
   "pygments_lexer": "ipython3",
   "version": "3.12.6"
  }
 },
 "nbformat": 4,
 "nbformat_minor": 5
}
