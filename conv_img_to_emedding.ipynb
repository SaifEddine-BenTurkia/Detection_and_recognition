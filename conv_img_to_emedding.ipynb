{
 "cells": [
  {
   "cell_type": "code",
   "execution_count": null,
   "id": "013fe93b",
   "metadata": {},
   "outputs": [],
   "source": [
    "import cv2\n",
    "import os\n",
    "import numpy as np\n",
    "import pandas as pd\n",
    "import matplotlib.pyplot as plt\n",
    "from deepface import DeepFace"
   ]
  },
  {
   "cell_type": "code",
   "execution_count": null,
   "id": "68326a28",
   "metadata": {},
   "outputs": [],
   "source": [
    "# Configuration\n",
    "IMAGE_DIR = r\"images\"  # Raw string for Windows paths\n",
    "OUTPUT_CSV = \"face_embeddings.csv\""
   ]
  },
  {
   "cell_type": "code",
   "execution_count": null,
   "id": "0eef536a",
   "metadata": {},
   "outputs": [],
   "source": [
    "def process_images():\n",
    "    data = {\"name\": [], \"embedding\": []}\n",
    "    valid_images = 0\n",
    "\n",
    "    # Get sorted list of image files\n",
    "    image_files = sorted([f for f in os.listdir(IMAGE_DIR) if f.lower().endswith(('.png', '.jpg', '.jpeg'))])\n",
    "    \n",
    " \n",
    "    \n",
    "    for idx, img_file in enumerate(image_files):\n",
    "        img_path = os.path.join(IMAGE_DIR, img_file)\n",
    "        print(f\"Processing {img_file} ({idx+1}/{len(image_files)})...\")\n",
    "\n",
    "        try:\n",
    "            # Detect faces with retinaface (more reliable than yolov8)\n",
    "            faces = DeepFace.extract_faces(img_path, detector_backend=\"opencv\" , align = True)\n",
    "            \n",
    "            if not faces:\n",
    "                print(f\"  No faces detected in {img_file}\")\n",
    "                continue\n",
    "\n",
    "            # Process first detected face\n",
    "            face = faces[0]\n",
    "            face_img = face[\"face\"]\n",
    "            \n",
    "            # Generate embedding\n",
    "            embedding = DeepFace.represent(\n",
    "                face_img, \n",
    "                model_name=\"SFace\",\n",
    "                enforce_detection=False\n",
    "            )[0][\"embedding\"]\n",
    "            \n",
    "            name = os.path.splitext(img_file)[0].split(' ')[0]\n",
    "            \n",
    "            # Store data\n",
    "            data[\"name\"].append(name)\n",
    "            data[\"embedding\"].append(\" \".join(map(str, embedding)))\n",
    "            valid_images += 1\n",
    "\n",
    "\n",
    "        except Exception as e:\n",
    "            print(f\"  Error processing {img_file}: {str(e)}\")\n",
    "\n",
    "    # Save embeddings\n",
    "    if valid_images > 0:\n",
    "        df = pd.DataFrame(data)\n",
    "        df.to_csv(OUTPUT_CSV, index=False)\n",
    "        print(f\"\\nSuccessfully processed {valid_images}/{len(image_files)} images\")\n",
    "        print(f\"Embeddings saved to {OUTPUT_CSV}\")\n",
    "    else:\n",
    "        print(\"No valid images processed\")"
   ]
  },
  {
   "cell_type": "code",
   "execution_count": null,
   "id": "b792a355",
   "metadata": {},
   "outputs": [],
   "source": [
    "if __name__ == \"__main__\":\n",
    "    process_images()"
   ]
  }
 ],
 "metadata": {
  "jupytext": {
   "cell_metadata_filter": "-all",
   "main_language": "python",
   "notebook_metadata_filter": "-all"
  },
  "language_info": {
   "name": "python"
  }
 },
 "nbformat": 4,
 "nbformat_minor": 5
}
